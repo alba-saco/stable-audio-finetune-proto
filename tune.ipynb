{
 "cells": [
  {
   "cell_type": "code",
   "execution_count": null,
   "id": "57a514bb-7d9d-43e1-ad65-be45d8e6db36",
   "metadata": {},
   "outputs": [],
   "source": [
    "!nvidia-smi"
   ]
  },
  {
   "cell_type": "code",
   "execution_count": null,
   "id": "84b830bd-54cb-4405-a1d3-fc04dbb748cd",
   "metadata": {},
   "outputs": [],
   "source": [
    "!git clone https://github.com/Stability-AI/stable-audio-tools.git"
   ]
  },
  {
   "cell_type": "code",
   "execution_count": null,
   "id": "42f1ad66-43e4-4a07-9743-cf24576d5dd5",
   "metadata": {},
   "outputs": [],
   "source": [
    "%cd stable-audio-tools\n",
    "!pip install -e .\n",
    "%cd .."
   ]
  },
  {
   "cell_type": "code",
   "execution_count": null,
   "id": "a09ef30d-43c2-4097-ab3f-3235415c5e07",
   "metadata": {},
   "outputs": [],
   "source": [
    "!apt-get update\n",
    "!apt-get install ffmpeg -y"
   ]
  },
  {
   "cell_type": "code",
   "execution_count": null,
   "id": "12ece4e9-9e58-4209-97c8-22ea5d26b284",
   "metadata": {},
   "outputs": [],
   "source": [
    "!pip install gdown\n",
    "\n",
    "# dataset gathering has been moved to di dataset.ipynb"
   ]
  },
  {
   "cell_type": "code",
   "execution_count": null,
   "id": "4c68432f-1fa4-4095-a430-212a9443e5ec",
   "metadata": {},
   "outputs": [],
   "source": [
    "!wandb login b6d3e60d6e03c071a2c96aa1d681bc3ba52f35b8"
   ]
  },
  {
   "cell_type": "code",
   "execution_count": null,
   "id": "97fd9ea2-e493-4953-b4c2-2d25dc83c750",
   "metadata": {},
   "outputs": [],
   "source": [
    "%cd /workspace/stable-audio-tools\n",
    "\n",
    "command = (\n",
    "    \"python3 train.py\"\n",
    "    \" --dataset-config /workspace/dataset.json\"\n",
    "    \" --model-config /workspace/model_config.json\"\n",
    "    \" --name stable_audio_open_finetune\"\n",
    "    \" --save-dir /workspace/checkpoints\"\n",
    "    \" --checkpoint-every 1000\"\n",
    "    \" --batch-size 32\"\n",
    "    \" --num-gpus 2\"\n",
    "    \" --precision 16-mixed\"\n",
    "    \" --seed 128\"\n",
    "    \" --pretrained-ckpt-path /workspace/model.ckpt\"\n",
    ")\n",
    "\n",
    "!{command}"
   ]
  },
  {
   "cell_type": "code",
   "execution_count": 5,
   "id": "2deb0c13-11e2-43f3-838f-765423984c0e",
   "metadata": {},
   "outputs": [
    {
     "name": "stdout",
     "output_type": "stream",
     "text": [
      "['epoch=26-step=1000.ckpt']\n"
     ]
    }
   ],
   "source": [
    "import os\n",
    "\n",
    "print(os.listdir(\"/workspace/checkpoints/stable_audio_open_finetune/m46l6a5o/checkpoints\"))"
   ]
  },
  {
   "cell_type": "code",
   "execution_count": null,
   "id": "7033538b-32a4-4018-b58b-3c894d38bccd",
   "metadata": {},
   "outputs": [],
   "source": [
    "# \"/workspace/checkpoints/stable_audio_open_finetune/m46l6a5o/checkpoints/epoch=26-step=1000.ckpt\"\n",
    "%cd /workspace\n",
    "\n",
    "command = (\n",
    "    \"python stable-audio-tools/unwrap_model.py\"\n",
    "    \" --model-config /workspace/model_config.json\"\n",
    "    \" --ckpt-path /workspace/checkpoints/stable_audio_open_finetune/m46l6a5o/checkpoints/epoch=26-step=1000.ckpt\"\n",
    "    \" --name stable_audio_open_gc_1000\"\n",
    ")\n",
    "!{command}"
   ]
  },
  {
   "cell_type": "code",
   "execution_count": null,
   "id": "e7b5d582-55f2-414d-8915-dca923ecfc5e",
   "metadata": {},
   "outputs": [],
   "source": [
    "%cd /workspace\n",
    "\n",
    "command = (\n",
    "    \"python stable-audio-tools/run_gradio.py\"\n",
    "    \" --model-config /workspace/model_config.json\"\n",
    "    \" --ckpt-path /workspace/stable_audio_open_gc_1000.ckpt\"\n",
    "    \" --share\"\n",
    ")\n",
    "!{command}"
   ]
  },
  {
   "cell_type": "code",
   "execution_count": null,
   "id": "961c88e5-cba7-4320-a279-5bfe56ad0af1",
   "metadata": {},
   "outputs": [],
   "source": []
  }
 ],
 "metadata": {
  "kernelspec": {
   "display_name": "Python 3 (ipykernel)",
   "language": "python",
   "name": "python3"
  },
  "language_info": {
   "codemirror_mode": {
    "name": "ipython",
    "version": 3
   },
   "file_extension": ".py",
   "mimetype": "text/x-python",
   "name": "python",
   "nbconvert_exporter": "python",
   "pygments_lexer": "ipython3",
   "version": "3.10.12"
  }
 },
 "nbformat": 4,
 "nbformat_minor": 5
}
