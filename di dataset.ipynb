{
 "cells": [
  {
   "cell_type": "code",
   "execution_count": null,
   "id": "e95de772-3590-493f-b8b4-c0580b988f6f",
   "metadata": {},
   "outputs": [],
   "source": [
    "from huggingface_hub import hf_hub_download\n",
    "\n",
    "from huggingface_hub import notebook_login\n",
    "notebook_login()"
   ]
  },
  {
   "cell_type": "code",
   "execution_count": null,
   "id": "3f4cbfde-9f36-4fd0-807b-efb4f5f36eda",
   "metadata": {},
   "outputs": [],
   "source": [
    "hf_hub_download(repo_id=\"stabilityai/stable-audio-open-1.0\", filename=\"model.ckpt\", local_dir=\"./\")\n",
    "hf_hub_download(repo_id=\"stabilityai/stable-audio-open-1.0\", filename=\"model_config.json\", local_dir=\"./\")"
   ]
  },
  {
   "cell_type": "code",
   "execution_count": null,
   "id": "182359fc-cd98-48be-8a5b-48c7dc0a8b5c",
   "metadata": {},
   "outputs": [],
   "source": [
    "!gdown 1h-Kqd3hOFqFrKTjJMzcocnmD2VtocNx1\n",
    "!gdown 1b2lBExR47glLcltFyUEwgvT3170QCP-7"
   ]
  },
  {
   "cell_type": "code",
   "execution_count": 6,
   "id": "89c980e4-6dcd-4f78-9332-040fbb877d22",
   "metadata": {},
   "outputs": [],
   "source": [
    "import zipfile\n",
    "import os\n",
    "\n",
    "zip_path = '/workspace/Glitch With Friends.zip'\n",
    "extract_to_path = '/workspace/dataset'\n",
    "\n",
    "os.makedirs(extract_to_path, exist_ok=True)\n",
    "\n",
    "with zipfile.ZipFile(zip_path, 'r') as zip_ref:\n",
    "    zip_ref.extractall(extract_to_path)"
   ]
  },
  {
   "cell_type": "code",
   "execution_count": 7,
   "id": "4d291275-da20-4345-8348-c37d4a4d3b2d",
   "metadata": {},
   "outputs": [],
   "source": [
    "zip_path = '/workspace/Glitch With Friends: Samples Vol. 2.zip'\n",
    "\n",
    "with zipfile.ZipFile(zip_path, 'r') as zip_ref:\n",
    "    zip_ref.extractall(extract_to_path)"
   ]
  },
  {
   "cell_type": "code",
   "execution_count": null,
   "id": "ef0a4fe6-3589-4fe4-80e4-dd0e0da8ca6f",
   "metadata": {},
   "outputs": [],
   "source": []
  }
 ],
 "metadata": {
  "kernelspec": {
   "display_name": "Python 3 (ipykernel)",
   "language": "python",
   "name": "python3"
  },
  "language_info": {
   "codemirror_mode": {
    "name": "ipython",
    "version": 3
   },
   "file_extension": ".py",
   "mimetype": "text/x-python",
   "name": "python",
   "nbconvert_exporter": "python",
   "pygments_lexer": "ipython3",
   "version": "3.10.12"
  }
 },
 "nbformat": 4,
 "nbformat_minor": 5
}
